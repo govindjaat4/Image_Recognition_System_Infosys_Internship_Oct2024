{
 "cells": [
  {
   "cell_type": "code",
   "execution_count": 2,
   "id": "45a14403-525c-481b-acfb-7e0244dc2333",
   "metadata": {},
   "outputs": [
    {
     "name": "stdout",
     "output_type": "stream",
     "text": [
      "Requirement already satisfied: opencv-python in c:\\users\\govin\\anaconda3\\lib\\site-packages (4.10.0.84)\n",
      "Requirement already satisfied: mtcnn in c:\\users\\govin\\anaconda3\\lib\\site-packages (1.0.0)\n",
      "Requirement already satisfied: numpy>=1.21.2 in c:\\users\\govin\\anaconda3\\lib\\site-packages (from opencv-python) (1.26.4)\n",
      "Requirement already satisfied: joblib>=1.4.2 in c:\\users\\govin\\anaconda3\\lib\\site-packages (from mtcnn) (1.4.2)\n",
      "Requirement already satisfied: lz4>=4.3.3 in c:\\users\\govin\\anaconda3\\lib\\site-packages (from mtcnn) (4.3.3)\n"
     ]
    }
   ],
   "source": [
    "!pip install opencv-python mtcnn\n"
   ]
  },
  {
   "cell_type": "code",
   "execution_count": null,
   "id": "b5e7f506-4629-48ac-8b43-018a0ea368d8",
   "metadata": {},
   "outputs": [],
   "source": [
    "import cv2\n",
    "from mtcnn import MTCNN\n",
    "import matplotlib.pyplot as plt\n",
    "\n",
    "detector = MTCNN()\n",
    "\n",
    "cap = cv2.VideoCapture(0)  \n",
    "\n",
    "if not cap.isOpened():\n",
    "    print(\"Error: Could not open webcam.\")\n",
    "    exit()\n",
    "\n",
    "while True:\n",
    "    \n",
    "    ret, frame = cap.read()\n",
    "    \n",
    "    if not ret:\n",
    "        print(\"Error: Failed to capture image.\")\n",
    "        break\n",
    "    \n",
    "    \n",
    "    rgb_frame = cv2.cvtColor(frame, cv2.COLOR_BGR2RGB)\n",
    "    \n",
    "    faces = detector.detect_faces(rgb_frame)\n",
    "    \n",
    "    for face in faces:\n",
    "        x, y, width, height = face['box']\n",
    "        cv2.rectangle(frame, (x, y), (x + width, y + height), (0, 255, 0), 2)\n",
    "    \n",
    "    cv2.imshow('Webcam - Face Detection', frame)\n",
    "    \n",
    "    if cv2.waitKey(1) & 0xFF == ord('q'):\n",
    "        break\n",
    "\n",
    "cap.release()\n",
    "cv2.destroyAllWindows()\n"
   ]
  },
  {
   "cell_type": "code",
   "execution_count": null,
   "id": "967f5ec1-b9c0-4713-9404-eaf6580731dc",
   "metadata": {},
   "outputs": [],
   "source": [
    "import cv2\n",
    "from mtcnn import MTCNN\n",
    "import matplotlib.pyplot as plt\n",
    "\n",
    "detector = MTCNN()\n",
    "\n",
    "cap = cv2.VideoCapture(0)  \n",
    "\n",
    "if not cap.isOpened():\n",
    "    print(\"Error: Could not open webcam.\")\n",
    "    exit()\n",
    "\n",
    "while True:\n",
    "    \n",
    "    ret, frame = cap.read()\n",
    "    \n",
    "    if not ret:\n",
    "        print(\"Error: Failed to capture image.\")\n",
    "        break\n",
    "    \n",
    "    rgb_frame = cv2.cvtColor(frame, cv2.COLOR_BGR2RGB)\n",
    "    \n",
    "    \n",
    "    faces = detector.detect_faces(rgb_frame)\n",
    "    \n",
    "   \n",
    "    for face in faces:\n",
    "        \n",
    "        x, y, width, height = face['box']\n",
    "        cv2.rectangle(frame, (x, y), (x + width, y + height), (0, 255, 0), 2)\n",
    "        \n",
    "        \n",
    "        landmarks = face['keypoints']\n",
    "        \n",
    "        \n",
    "        for key, point in landmarks.items():\n",
    "            cv2.circle(frame, point, 3, (0, 0, 255), -1)\n",
    "    \n",
    "    \n",
    "    cv2.imshow('Webcam - Face and Landmark Detection', frame)\n",
    "    \n",
    "    if cv2.waitKey(1) & 0xFF == ord('q'):\n",
    "        break\n",
    "\n",
    "\n",
    "cap.release()\n",
    "cv2.destroyAllWindows()\n"
   ]
  },
  {
   "cell_type": "code",
   "execution_count": null,
   "id": "11e402eb-b253-4891-8115-700ee15c30ed",
   "metadata": {},
   "outputs": [],
   "source": []
  }
 ],
 "metadata": {
  "kernelspec": {
   "display_name": "Python 3 (ipykernel)",
   "language": "python",
   "name": "python3"
  },
  "language_info": {
   "codemirror_mode": {
    "name": "ipython",
    "version": 3
   },
   "file_extension": ".py",
   "mimetype": "text/x-python",
   "name": "python",
   "nbconvert_exporter": "python",
   "pygments_lexer": "ipython3",
   "version": "3.12.4"
  }
 },
 "nbformat": 4,
 "nbformat_minor": 5
}
